{
  "cells": [
    {
      "cell_type": "markdown",
      "metadata": {
        "id": "1pY3PbQ35IG8"
      },
      "source": [
        "# Neuroevolution\n",
        "\n",
        "<a rel=\"license\" href=\"http://creativecommons.org/licenses/by-sa/4.0/\"><img alt=\"Creative Commons License\" align=\"left\" src=\"https://i.creativecommons.org/l/by-sa/4.0/80x15.png\" /></a>&nbsp;| Dennis G. Wilson | <a href=\"https://supaerodatascience.github.io/stochastic/\">https://supaerodatascience.github.io/stochastic/</a>"
      ]
    },
    {
      "cell_type": "markdown",
      "metadata": {
        "id": "zGw73sD65R6f"
      },
      "source": [
        "This notebook was optimized for Google colab."
      ]
    },
    {
      "cell_type": "code",
      "execution_count": 1,
      "metadata": {
        "id": "CmobG0tO5IG-"
      },
      "outputs": [],
      "source": [
        "!apt-get install -y xvfb python-opengl swig > /dev/null 2>&1"
      ]
    },
    {
      "cell_type": "code",
      "execution_count": 2,
      "metadata": {
        "id": "JYx37NEK6ap3"
      },
      "outputs": [],
      "source": [
        "!pip install swig > /dev/null 2>&1"
      ]
    },
    {
      "cell_type": "code",
      "execution_count": 3,
      "metadata": {
        "id": "Z67mMvdD9hvC"
      },
      "outputs": [
        {
          "name": "stdout",
          "output_type": "stream",
          "text": [
            "Collecting xvfbwrapper\n",
            "  Downloading xvfbwrapper-0.2.14-py3-none-any.whl.metadata (5.8 kB)\n",
            "Downloading xvfbwrapper-0.2.14-py3-none-any.whl (5.9 kB)\n",
            "Installing collected packages: xvfbwrapper\n",
            "Successfully installed xvfbwrapper-0.2.14\n"
          ]
        }
      ],
      "source": [
        "!pip install xvfbwrapper"
      ]
    },
    {
      "cell_type": "code",
      "execution_count": 4,
      "metadata": {
        "id": "-EC0xKKM6JCn"
      },
      "outputs": [
        {
          "name": "stdout",
          "output_type": "stream",
          "text": [
            "Requirement already satisfied: cma in /home/mohamed/anaconda3/envs/myenv/lib/python3.12/site-packages (4.4.0)\n",
            "Collecting pyvirtualdisplay\n",
            "  Downloading PyVirtualDisplay-3.0-py3-none-any.whl.metadata (943 bytes)\n",
            "Collecting gymnasium[box2d]\n",
            "  Downloading gymnasium-1.2.1-py3-none-any.whl.metadata (10.0 kB)\n",
            "Requirement already satisfied: numpy in /home/mohamed/anaconda3/envs/myenv/lib/python3.12/site-packages (from cma) (2.3.2)\n",
            "Requirement already satisfied: cloudpickle>=1.2.0 in /home/mohamed/anaconda3/envs/myenv/lib/python3.12/site-packages (from gymnasium[box2d]) (3.1.1)\n",
            "Requirement already satisfied: typing-extensions>=4.3.0 in /home/mohamed/anaconda3/envs/myenv/lib/python3.12/site-packages (from gymnasium[box2d]) (4.15.0)\n",
            "Collecting farama-notifications>=0.0.1 (from gymnasium[box2d])\n",
            "  Downloading Farama_Notifications-0.0.4-py3-none-any.whl.metadata (558 bytes)\n",
            "Collecting box2d-py==2.3.5 (from gymnasium[box2d])\n",
            "  Downloading box2d-py-2.3.5.tar.gz (374 kB)\n",
            "  Preparing metadata (setup.py) ... \u001b[?25ldone\n",
            "\u001b[?25hCollecting pygame>=2.1.3 (from gymnasium[box2d])\n",
            "  Downloading pygame-2.6.1-cp312-cp312-manylinux_2_17_x86_64.manylinux2014_x86_64.whl.metadata (12 kB)\n",
            "Requirement already satisfied: swig==4.* in /home/mohamed/anaconda3/envs/myenv/lib/python3.12/site-packages (from gymnasium[box2d]) (4.3.1.post0)\n",
            "Downloading PyVirtualDisplay-3.0-py3-none-any.whl (15 kB)\n",
            "Downloading gymnasium-1.2.1-py3-none-any.whl (951 kB)\n",
            "\u001b[2K   \u001b[90m━━━━━━━━━━━━━━━━━━━━━━━━━━━━━━━━━━━━━━━━\u001b[0m \u001b[32m951.1/951.1 kB\u001b[0m \u001b[31m4.9 MB/s\u001b[0m  \u001b[33m0:00:00\u001b[0m\n",
            "\u001b[?25hDownloading Farama_Notifications-0.0.4-py3-none-any.whl (2.5 kB)\n",
            "Downloading pygame-2.6.1-cp312-cp312-manylinux_2_17_x86_64.manylinux2014_x86_64.whl (14.0 MB)\n",
            "\u001b[2K   \u001b[90m━━━━━━━━━━━━━━━━━━━━━━━━━━━━━━━━━━━━━━━━\u001b[0m \u001b[32m14.0/14.0 MB\u001b[0m \u001b[31m2.0 MB/s\u001b[0m  \u001b[33m0:00:07\u001b[0mm0:00:01\u001b[0m00:01\u001b[0m\n",
            "\u001b[?25hBuilding wheels for collected packages: box2d-py\n",
            "\u001b[33m  DEPRECATION: Building 'box2d-py' using the legacy setup.py bdist_wheel mechanism, which will be removed in a future version. pip 25.3 will enforce this behaviour change. A possible replacement is to use the standardized build interface by setting the `--use-pep517` option, (possibly combined with `--no-build-isolation`), or adding a `pyproject.toml` file to the source tree of 'box2d-py'. Discussion can be found at https://github.com/pypa/pip/issues/6334\u001b[0m\u001b[33m\n",
            "\u001b[0m  Building wheel for box2d-py (setup.py) ... \u001b[?25ldone\n",
            "\u001b[?25h  Created wheel for box2d-py: filename=box2d_py-2.3.5-cp312-cp312-linux_x86_64.whl size=494054 sha256=e10d6513eff68a99a384ffcc7f2cc7676270d57457d01d40599bb0911a2e90bf\n",
            "  Stored in directory: /home/mohamed/.cache/pip/wheels/2a/e9/60/774da0bcd07f7dc7761a8590fa2d065e4069568e78dcdc3318\n",
            "Successfully built box2d-py\n",
            "Installing collected packages: pyvirtualdisplay, farama-notifications, box2d-py, pygame, gymnasium\n",
            "\u001b[2K   \u001b[90m━━━━━━━━━━━━━━━━━━━━━━━━━━━━━━━━━━━━━━━━\u001b[0m \u001b[32m5/5\u001b[0m [gymnasium]/5\u001b[0m [gymnasium]\n",
            "\u001b[1A\u001b[2KSuccessfully installed box2d-py-2.3.5 farama-notifications-0.0.4 gymnasium-1.2.1 pygame-2.6.1 pyvirtualdisplay-3.0\n"
          ]
        }
      ],
      "source": [
        "!pip install cma pyvirtualdisplay gymnasium[box2d]"
      ]
    },
    {
      "cell_type": "markdown",
      "metadata": {
        "id": "ZOz_Torf5IHA"
      },
      "source": [
        "Consider a task where sequential decisions must be made. A common model is to consider that an environment gives an observation for each decision, or action, taken. We can then make decisions by choosing a function which takes in an environment state and gives out an action."
      ]
    },
    {
      "cell_type": "markdown",
      "metadata": {
        "id": "ds7kHtJM5IHB"
      },
      "source": [
        "<img src=\"https://raw.githubusercontent.com/SupaeroDataScience/stochastic/master/notebooks/imgs/ne_basics.png\">"
      ]
    },
    {
      "cell_type": "markdown",
      "metadata": {
        "id": "FydYJtZI5IHC"
      },
      "source": [
        "Evolutionary strategies are intended for continuous optimization and can easily be applied to the optimization of neural network parameters, or *neuroevolution*. The goal of this is to optimize the parameters of a function which can interact in an environment. A neural network can represent any function, so we can use it as a representation of our decision making function. The parameters of the neural network become the individual we are optimizing."
      ]
    },
    {
      "cell_type": "code",
      "execution_count": 5,
      "metadata": {
        "id": "FRzN_BC15IHC"
      },
      "outputs": [],
      "source": [
        "import torch\n",
        "import torch.nn as nn\n",
        "import torch.nn.functional as F\n",
        "import torch.multiprocessing as mp\n",
        "import numpy as np\n",
        "import gymnasium"
      ]
    },
    {
      "cell_type": "code",
      "execution_count": 6,
      "metadata": {
        "id": "zYVmCNB_5IHD"
      },
      "outputs": [],
      "source": [
        "class NeuralNetwork(nn.Module):\n",
        "\n",
        "    def __init__(self, input_shape, n_actions):\n",
        "        super(NeuralNetwork, self).__init__()\n",
        "        self.l1 = nn.Linear(input_shape, 32)\n",
        "        self.l2 = nn.Linear(32, 32)\n",
        "        self.lout = nn.Linear(32, n_actions)\n",
        "\n",
        "    def forward(self, x):\n",
        "        x = F.relu(self.l1(x.float()))\n",
        "        x = F.relu(self.l2(x))\n",
        "        return self.lout(x)\n",
        "\n",
        "    def get_params(self):\n",
        "        p = np.empty((0,))\n",
        "        for n in self.parameters():\n",
        "            p = np.append(p, n.flatten().cpu().detach().numpy())\n",
        "        return p\n",
        "\n",
        "    def set_params(self, x):\n",
        "        start = 0\n",
        "        for p in self.parameters():\n",
        "            e = start + np.prod(p.shape)\n",
        "            p.data = torch.FloatTensor(x[start:e]).reshape(p.shape)\n",
        "            start = e"
      ]
    },
    {
      "cell_type": "markdown",
      "metadata": {
        "id": "rO_bOlPh5IHD"
      },
      "source": [
        "We'll add some visualization functionality to have the environment render directly in the notebook. To run this notebook in Google colab, uncomment and run the following lines."
      ]
    },
    {
      "cell_type": "code",
      "execution_count": 7,
      "metadata": {
        "id": "4am2dOQ55IHD"
      },
      "outputs": [],
      "source": [
        "from IPython import display\n",
        "import matplotlib.pyplot as plt\n",
        "%matplotlib inline\n",
        "plt.ion();"
      ]
    },
    {
      "cell_type": "markdown",
      "metadata": {
        "id": "WdV6Jn3H5IHE"
      },
      "source": [
        "Following the framework of evolutionary policy search, we will optimize a neural network representing a policy and maximize the total reward over a single episode using this policy. In the following function, we use the policy function to take actions and calculate a reward given by the environment."
      ]
    },
    {
      "cell_type": "code",
      "execution_count": 8,
      "metadata": {
        "id": "2lJVVPqb5IHE"
      },
      "outputs": [],
      "source": [
        "def evaluate(ann, env, visul=True):\n",
        "    # set the environment\n",
        "    obs, info = env.reset(seed=0, options={})\n",
        "    # visualization\n",
        "    if visul:\n",
        "        img = plt.imshow(env.render())\n",
        "    # total reward, objective for maximizing\n",
        "    total_reward = 0\n",
        "    # run the sequence of decisions\n",
        "    done = False\n",
        "    while not done:\n",
        "        # Use the neural network to make a decision based on observations\n",
        "        net_output = ann(torch.tensor(obs))\n",
        "        # the action is the value clipped returned by the nn\n",
        "        action = net_output.data.cpu().numpy().argmax()\n",
        "        # take a step in the environment\n",
        "        obs, reward, done, _, _ = env.step(action)\n",
        "        # track the total reward\n",
        "        total_reward += reward\n",
        "        # visualization of the action\n",
        "        if visul:\n",
        "            img.set_data(env.render())\n",
        "            plt.axis('off')\n",
        "            display.display(plt.gcf())\n",
        "            display.clear_output(wait=True)\n",
        "    return total_reward"
      ]
    },
    {
      "cell_type": "markdown",
      "metadata": {
        "id": "XJ_xO38z5IHF"
      },
      "source": [
        "We've configured this for discrete action spaces. We can see a random neural network on different environments like `CartPole-v0`, `MountainCar-v0`, and `LunarLander-v2`."
      ]
    },
    {
      "cell_type": "code",
      "execution_count": 12,
      "metadata": {
        "id": "mKxqC0E55IHF"
      },
      "outputs": [],
      "source": [
        "env = gymnasium.make(\"LunarLander-v3\", render_mode=\"rgb_array\")\n",
        "ann = NeuralNetwork(env.observation_space.shape[0], env.action_space.n)"
      ]
    },
    {
      "cell_type": "code",
      "execution_count": 13,
      "metadata": {
        "id": "2OJPcCNS5IHF"
      },
      "outputs": [
        {
          "data": {
            "text/plain": [
              "np.float64(-119.05959591305864)"
            ]
          },
          "execution_count": 13,
          "metadata": {},
          "output_type": "execute_result"
        },
        {
          "data": {
            "image/png": "[encoded data removed]",
            "text/plain": [
              "<Figure size 640x480 with 1 Axes>"
            ]
          },
          "metadata": {},
          "output_type": "display_data"
        }
      ],
      "source": [
        "evaluate(ann, env, visul=True)"
      ]
    },
    {
      "cell_type": "markdown",
      "metadata": {
        "id": "dEuX7RuD5IHF"
      },
      "source": [
        "In order to evolve the parameters of this neural network, we will modify the parameters of the network using `set_params` with the genes of the new individual. In the evolutionary literature, this is referred to as a *direct encoding* as the neural network parameters are directly encoded in the genome."
      ]
    },
    {
      "cell_type": "code",
      "execution_count": 14,
      "metadata": {
        "id": "tg9e0zY55IHG"
      },
      "outputs": [],
      "source": [
        "def fitness(x, ann, env, visul=False):\n",
        "    ann.set_params(x)\n",
        "    return -evaluate(ann, env, visul=visul)"
      ]
    },
    {
      "cell_type": "code",
      "execution_count": 15,
      "metadata": {
        "id": "HBAUwaAi5IHH"
      },
      "outputs": [
        {
          "data": {
            "text/plain": [
              "(1476,)"
            ]
          },
          "execution_count": 15,
          "metadata": {},
          "output_type": "execute_result"
        }
      ],
      "source": [
        "p = ann.get_params()\n",
        "np.shape(p)"
      ]
    },
    {
      "cell_type": "markdown",
      "metadata": {
        "id": "5uZpC5JC5IHH"
      },
      "source": [
        "We can first observe a random individual $x$."
      ]
    },
    {
      "cell_type": "code",
      "execution_count": 16,
      "metadata": {
        "id": "r3qyVkDi5IHH"
      },
      "outputs": [
        {
          "data": {
            "text/plain": [
              "np.float64(-119.05959591305864)"
            ]
          },
          "execution_count": 16,
          "metadata": {},
          "output_type": "execute_result"
        },
        {
          "data": {
            "image/png": "[encoded data removed]",
            "text/plain": [
              "<Figure size 640x480 with 1 Axes>"
            ]
          },
          "metadata": {},
          "output_type": "display_data"
        }
      ],
      "source": [
        "x = np.random.rand(len(p))\n",
        "-fitness(x, ann, env, visul=True)"
      ]
    },
    {
      "cell_type": "markdown",
      "metadata": {
        "id": "p2JnKneU5IHH"
      },
      "source": [
        "# CMA-ES for Neuroevolution"
      ]
    },
    {
      "cell_type": "markdown",
      "metadata": {
        "id": "Trhf9qeg5IHI"
      },
      "source": [
        "We will now use CMA-ES for the Lunar Lander problem using the pycma package (https://github.com/CMA-ES/pycma)"
      ]
    },
    {
      "cell_type": "code",
      "execution_count": 17,
      "metadata": {
        "id": "QtEGF2I55IHI"
      },
      "outputs": [],
      "source": [
        "import cma"
      ]
    },
    {
      "cell_type": "code",
      "execution_count": 19,
      "metadata": {
        "id": "dfT_PvzA5IHI"
      },
      "outputs": [
        {
          "name": "stdout",
          "output_type": "stream",
          "text": [
            "(12_w,25)-aCMA-ES (mu_w=7.3,w_1=23%) in dimension 1476 (seed=123, Sun Oct 12 12:04:53 2025)\n"
          ]
        }
      ],
      "source": [
        "np.random.seed(123)\n",
        "env = gymnasium.make('LunarLander-v3')\n",
        "ann = NeuralNetwork(env.observation_space.shape[0], env.action_space.n)\n",
        "es = cma.CMAEvolutionStrategy(len(ann.get_params()) * [0], 0.1, {'seed': 123})"
      ]
    },
    {
      "cell_type": "code",
      "execution_count": 20,
      "metadata": {
        "id": "VqoiHwmp5IHJ"
      },
      "outputs": [
        {
          "name": "stdout",
          "output_type": "stream",
          "text": [
            "Iterat #Fevals   function value  axis ratio  sigma  min&max std  t[m:s]\n",
            "    1     25 -2.200069783769990e+00 1.0e+00 9.95e-02  1e-01  1e-01 0:00.5\n",
            "    2     50 9.724449927608715e+01 1.0e+00 9.89e-02  1e-01  1e-01 0:00.9\n",
            "    3     75 1.190595959130586e+02 1.0e+00 9.84e-02  1e-01  1e-01 0:01.1\n"
          ]
        },
        {
          "name": "stderr",
          "output_type": "stream",
          "text": [
            "/home/mohamed/anaconda3/envs/myenv/lib/python3.12/site-packages/cma/utilities/utils.py:362: UserWarning: paused time=1760263512.065680 < last_tic=1760263513.385251, which\n",
            "                should never happen, but has been observed at least once.\n",
            "                 (time=Oct 12 12:05:12 2025 class=ElapsedWCTime method=tic)\n",
            "  warnings.warn(msg + ' (time={}'.format(time.asctime()[4:]) +\n"
          ]
        },
        {
          "name": "stdout",
          "output_type": "stream",
          "text": [
            "   13    325 -4.344580910012883e+01 1.0e+00 9.43e-02  9e-02  9e-02 0:04.8\n"
          ]
        }
      ],
      "source": [
        "for i in range(20):\n",
        "    solutions = np.array(es.ask())\n",
        "    fits = [fitness(x, ann, env) for x in solutions]\n",
        "    es.tell(solutions, fits)\n",
        "    es.disp()"
      ]
    },
    {
      "cell_type": "code",
      "execution_count": 23,
      "metadata": {
        "id": "Jew1O-no5IHJ"
      },
      "outputs": [
        {
          "data": {
            "text/plain": [
              "np.float64(75.7634558863084)"
            ]
          },
          "execution_count": 23,
          "metadata": {},
          "output_type": "execute_result"
        },
        {
          "data": {
            "image/png": "[encoded data removed]",
            "text/plain": [
              "<Figure size 640x480 with 1 Axes>"
            ]
          },
          "metadata": {},
          "output_type": "display_data"
        }
      ],
      "source": [
        "x = es.result[0]\n",
        "env = gymnasium.make('LunarLander-v3', render_mode=\"rgb_array\")\n",
        "-fitness(x, ann, env, visul=True)"
      ]
    },
    {
      "cell_type": "markdown",
      "metadata": {
        "id": "PwrDJeYg5IHJ"
      },
      "source": [
        "The results on LunarLander clearly show the benefits of CMA-ES; we have found a reasonable policy in a small number of generations. Applying CMA-ES to larger neural networks remains an open challenge, however, due to the vast number of parameters in ANNs. Specifically, CMA-ES calculates the covariance of all parameters, which is $O(n^2)$."
      ]
    },
    {
      "cell_type": "code",
      "execution_count": 24,
      "metadata": {
        "id": "jHgmMo-B5IHJ"
      },
      "outputs": [
        {
          "data": {
            "text/plain": [
              "(1476, 1476)"
            ]
          },
          "execution_count": 24,
          "metadata": {},
          "output_type": "execute_result"
        }
      ],
      "source": [
        "np.shape(es.sm.C)"
      ]
    },
    {
      "cell_type": "code",
      "execution_count": null,
      "metadata": {
        "id": "TvGwML0m5IHK"
      },
      "outputs": [],
      "source": []
    }
  ],
  "metadata": {
    "@webio": {
      "lastCommId": null,
      "lastKernelId": null
    },
    "celltoolbar": "Slideshow",
    "colab": {
      "provenance": []
    },
    "kernelspec": {
      "display_name": "myenv",
      "language": "python",
      "name": "python3"
    },
    "language_info": {
      "codemirror_mode": {
        "name": "ipython",
        "version": 3
      },
      "file_extension": ".py",
      "mimetype": "text/x-python",
      "name": "python",
      "nbconvert_exporter": "python",
      "pygments_lexer": "ipython3",
      "version": "3.12.11"
    }
  },
  "nbformat": 4,
  "nbformat_minor": 0
}
