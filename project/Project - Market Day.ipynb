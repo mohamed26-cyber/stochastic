{
 "cells": [
  {
   "cell_type": "markdown",
   "id": "d8823f9d",
   "metadata": {
    "id": "d8823f9d"
   },
   "source": [
    "# Project - Market Day\n",
    "\n",
    "<a rel=\"license\" href=\"http://creativecommons.org/licenses/by-sa/4.0/\"><img alt=\"Creative Commons License\" align=\"left\" src=\"https://i.creativecommons.org/l/by-sa/4.0/80x15.png\" /></a>&nbsp;| Dennis G. Wilson | <a href=\"https://supaerodatascience.github.io/stochastic/\">https://supaerodatascience.github.io/stochastic/</a>"
   ]
  },
  {
   "cell_type": "markdown",
   "id": "e6452934",
   "metadata": {
    "id": "e6452934"
   },
   "source": [
    "![Stardew Valley](https://venturebeat.com/wp-content/uploads/2018/01/sw7rtba7p1xs77klsime.png)"
   ]
  },
  {
   "cell_type": "markdown",
   "id": "68359e75",
   "metadata": {
    "id": "68359e75"
   },
   "source": [
    "It is Market Day! You've been working hard for a whole season, planting, watering, and taking care of crops. Now it is time to sell them in town. Just one problem though - your old truck can only carry so much weight. Which crops should you bring to maximize your profits? "
   ]
  },
  {
   "cell_type": "markdown",
   "id": "fa661645",
   "metadata": {
    "id": "fa661645"
   },
   "source": [
    "In this project, you will use a stochastic algorithm of your choice to find the best crop configuration you can load into your truck. You know how much stock you have of each crop, how much each crop weighs, and what price it will fetch at the market. You should use these values throughout the project."
   ]
  },
  {
   "cell_type": "markdown",
   "id": "459e3e1a",
   "metadata": {
    "id": "459e3e1a"
   },
   "source": [
    "Before we start, if you're using colab to run this notebook, you'll need to uncomment and run the following lines:"
   ]
  },
  {
   "cell_type": "code",
   "execution_count": 1,
   "id": "c98dedf7",
   "metadata": {
    "id": "c98dedf7"
   },
   "outputs": [],
   "source": [
    "#!wget https://raw.githubusercontent.com/SupaeroDataScience/stochastic/master/project/market.csv\n",
    "#!wget https://raw.githubusercontent.com/SupaeroDataScience/stochastic/master/project/recipes.csv\n",
    "#!pip install pymoo"
   ]
  },
  {
   "cell_type": "code",
   "execution_count": 2,
   "id": "3fd3c7cf",
   "metadata": {
    "id": "3fd3c7cf"
   },
   "outputs": [],
   "source": [
    "import numpy as np\n",
    "import pandas as pd\n",
    "import pymoo\n",
    "import copy"
   ]
  },
  {
   "cell_type": "code",
   "execution_count": 3,
   "id": "1c3d4f41",
   "metadata": {
    "id": "1c3d4f41"
   },
   "outputs": [
    {
     "data": {
      "text/html": [
       "<div>\n",
       "<style scoped>\n",
       "    .dataframe tbody tr th:only-of-type {\n",
       "        vertical-align: middle;\n",
       "    }\n",
       "\n",
       "    .dataframe tbody tr th {\n",
       "        vertical-align: top;\n",
       "    }\n",
       "\n",
       "    .dataframe thead th {\n",
       "        text-align: right;\n",
       "    }\n",
       "</style>\n",
       "<table border=\"1\" class=\"dataframe\">\n",
       "  <thead>\n",
       "    <tr style=\"text-align: right;\">\n",
       "      <th></th>\n",
       "      <th>stock</th>\n",
       "      <th>weight</th>\n",
       "      <th>price_A</th>\n",
       "      <th>price_B</th>\n",
       "      <th>price_C</th>\n",
       "    </tr>\n",
       "  </thead>\n",
       "  <tbody>\n",
       "    <tr>\n",
       "      <th>Apple</th>\n",
       "      <td>5</td>\n",
       "      <td>5</td>\n",
       "      <td>1.00</td>\n",
       "      <td>0.5</td>\n",
       "      <td>1.1</td>\n",
       "    </tr>\n",
       "    <tr>\n",
       "      <th>Apricot</th>\n",
       "      <td>65</td>\n",
       "      <td>3</td>\n",
       "      <td>0.50</td>\n",
       "      <td>0.2</td>\n",
       "      <td>0.6</td>\n",
       "    </tr>\n",
       "    <tr>\n",
       "      <th>Blueberry</th>\n",
       "      <td>5</td>\n",
       "      <td>3</td>\n",
       "      <td>0.50</td>\n",
       "      <td>0.3</td>\n",
       "      <td>1.2</td>\n",
       "    </tr>\n",
       "    <tr>\n",
       "      <th>Cactus Fruit</th>\n",
       "      <td>90</td>\n",
       "      <td>4</td>\n",
       "      <td>0.75</td>\n",
       "      <td>0.3</td>\n",
       "      <td>0.3</td>\n",
       "    </tr>\n",
       "    <tr>\n",
       "      <th>Cherry</th>\n",
       "      <td>15</td>\n",
       "      <td>4</td>\n",
       "      <td>0.80</td>\n",
       "      <td>0.4</td>\n",
       "      <td>1.1</td>\n",
       "    </tr>\n",
       "  </tbody>\n",
       "</table>\n",
       "</div>"
      ],
      "text/plain": [
       "              stock  weight  price_A  price_B  price_C\n",
       "Apple             5       5     1.00      0.5      1.1\n",
       "Apricot          65       3     0.50      0.2      0.6\n",
       "Blueberry         5       3     0.50      0.3      1.2\n",
       "Cactus Fruit     90       4     0.75      0.3      0.3\n",
       "Cherry           15       4     0.80      0.4      1.1"
      ]
     },
     "execution_count": 3,
     "metadata": {},
     "output_type": "execute_result"
    }
   ],
   "source": [
    "df = pd.read_csv('market.csv', index_col=0)\n",
    "df.head()"
   ]
  },
  {
   "cell_type": "code",
   "execution_count": 4,
   "id": "614d7ba3",
   "metadata": {
    "id": "614d7ba3"
   },
   "outputs": [],
   "source": [
    "stock = df['stock'].to_dict()\n",
    "weight = df['weight'].to_dict()\n",
    "price = df['price_A'].to_dict()"
   ]
  },
  {
   "cell_type": "code",
   "execution_count": 5,
   "id": "5d28fa1e",
   "metadata": {
    "id": "5d28fa1e"
   },
   "outputs": [
    {
     "data": {
      "text/plain": [
       "{'Apple': 5,\n",
       " 'Apricot': 65,\n",
       " 'Blueberry': 5,\n",
       " 'Cactus Fruit': 90,\n",
       " 'Cherry': 15,\n",
       " 'Cranberry': 75,\n",
       " 'Grape': 70,\n",
       " 'Melon': 75,\n",
       " 'Orange': 40,\n",
       " 'Peach': 55,\n",
       " 'Pomegranate': 5,\n",
       " 'Rhubarb': 70,\n",
       " 'Starfruit': 5,\n",
       " 'Strawberry': 20,\n",
       " 'Amaranth': 20,\n",
       " 'Artichoke': 65,\n",
       " 'Beet': 30,\n",
       " 'Bok Choy': 55,\n",
       " 'Cauliflower': 70,\n",
       " 'Corn': 90,\n",
       " 'Eggplant': 95,\n",
       " 'Garlic': 95,\n",
       " 'Green Bean': 55,\n",
       " 'Hops': 75,\n",
       " 'Hot Pepper': 25,\n",
       " 'Kale': 5,\n",
       " 'Parsnip': 10,\n",
       " 'Potato': 55,\n",
       " 'Pumpkin': 30,\n",
       " 'Radish': 50,\n",
       " 'Red Cabbage': 55,\n",
       " 'Tomato': 65,\n",
       " 'Wheat': 75,\n",
       " 'Yam': 50,\n",
       " 'Blackberry': 70}"
      ]
     },
     "execution_count": 5,
     "metadata": {},
     "output_type": "execute_result"
    }
   ],
   "source": [
    "stock"
   ]
  },
  {
   "cell_type": "markdown",
   "id": "91c0dc4b",
   "metadata": {
    "id": "91c0dc4b"
   },
   "source": [
    "To evaluate your possible load going to the market, we will use a function that takes in a dictionary of this type, specifying how many of each crop you will take. This function will take into the constraints of having enough stock of the crop type and of not surpassing the weight limit."
   ]
  },
  {
   "cell_type": "code",
   "execution_count": 6,
   "id": "587b7af3",
   "metadata": {
    "id": "587b7af3"
   },
   "outputs": [],
   "source": [
    "def evaluate(load, stock, weight, price, max_weight=5000):\n",
    "    total_weight = 0\n",
    "    total_price = 0\n",
    "    for k in load:\n",
    "        if load[k] <= stock[k]:\n",
    "            total_price += load[k] * price[k]\n",
    "            total_weight += load[k] * weight[k]\n",
    "            if total_weight > max_weight:\n",
    "                return 0\n",
    "        else:\n",
    "            return 0\n",
    "    return total_price"
   ]
  },
  {
   "cell_type": "markdown",
   "id": "f832b811",
   "metadata": {
    "id": "f832b811"
   },
   "source": [
    "You can try this with an example load generated randomly:"
   ]
  },
  {
   "cell_type": "code",
   "execution_count": 7,
   "id": "8223f09c",
   "metadata": {
    "id": "8223f09c"
   },
   "outputs": [
    {
     "data": {
      "text/plain": [
       "{'Apple': 1,\n",
       " 'Apricot': 62,\n",
       " 'Blueberry': 1,\n",
       " 'Cactus Fruit': 18,\n",
       " 'Cherry': 5,\n",
       " 'Cranberry': 48,\n",
       " 'Grape': 57,\n",
       " 'Melon': 38,\n",
       " 'Orange': 13,\n",
       " 'Peach': 18,\n",
       " 'Pomegranate': 1,\n",
       " 'Rhubarb': 2,\n",
       " 'Starfruit': 1,\n",
       " 'Strawberry': 10,\n",
       " 'Amaranth': 8,\n",
       " 'Artichoke': 29,\n",
       " 'Beet': 26,\n",
       " 'Bok Choy': 17,\n",
       " 'Cauliflower': 40,\n",
       " 'Corn': 81,\n",
       " 'Eggplant': 10,\n",
       " 'Garlic': 2,\n",
       " 'Green Bean': 38,\n",
       " 'Hops': 13,\n",
       " 'Hot Pepper': 19,\n",
       " 'Kale': 2,\n",
       " 'Parsnip': 1,\n",
       " 'Potato': 23,\n",
       " 'Pumpkin': 18,\n",
       " 'Radish': 33,\n",
       " 'Red Cabbage': 35,\n",
       " 'Tomato': 24,\n",
       " 'Wheat': 46,\n",
       " 'Yam': 23,\n",
       " 'Blackberry': 66}"
      ]
     },
     "execution_count": 7,
     "metadata": {},
     "output_type": "execute_result"
    }
   ],
   "source": [
    "trial_load = {}\n",
    "for k in stock:\n",
    "    trial_load[k] = np.random.randint(0, stock[k])\n",
    "trial_load"
   ]
  },
  {
   "cell_type": "code",
   "execution_count": 8,
   "id": "e9538ac0",
   "metadata": {
    "id": "e9538ac0"
   },
   "outputs": [
    {
     "data": {
      "text/plain": [
       "688.4"
      ]
     },
     "execution_count": 8,
     "metadata": {},
     "output_type": "execute_result"
    }
   ],
   "source": [
    "evaluate(trial_load, stock, weight, price)"
   ]
  },
  {
   "cell_type": "markdown",
   "id": "b49edb3c",
   "metadata": {
    "id": "b49edb3c"
   },
   "source": [
    "## Challenge 1\n",
    "\n",
    "Use a stochastic algorithm to find the configuration of crops that maximizes profit while respecting the constraints of the weight limit and stock. You can use any of the class code or a library like `pymoo`. You should create a reasonable representation for the problem and appropriate modification functions like mutation and crossover. You can also modify the evaluation function, as long as your final solution is valid according to the weight and stock constraints.\n",
    "\n",
    "Include your code for optimization, any visualizations of the optimization process, as well as code to show the final market load and profit gained. Can you beat the random trial load profits?\n",
    "\n",
    "Hint: this is a constrained case of the [knapsack problem](https://en.wikipedia.org/wiki/Knapsack_problem)"
   ]
  },
  {
   "cell_type": "markdown",
   "id": "1db64ad0",
   "metadata": {
    "id": "1db64ad0"
   },
   "source": [
    "## Challenge 2\n"
   ]
  },
  {
   "cell_type": "markdown",
   "id": "ad10e8aa",
   "metadata": {
    "id": "ad10e8aa"
   },
   "source": [
    "The agricultural market in this world is highly variable. This time, you'll be selling your load to a reseller, but you're not sure which one. Each reseller has different prices, so it depends on which one you'll meet. To be prepared, you should explore the possible options."
   ]
  },
  {
   "cell_type": "code",
   "execution_count": 9,
   "id": "6f1fb98d",
   "metadata": {
    "id": "6f1fb98d"
   },
   "outputs": [],
   "source": [
    "price_a = df['price_A'].to_dict()\n",
    "price_b = df['price_B'].to_dict()\n",
    "price_c = df['price_C'].to_dict()"
   ]
  },
  {
   "cell_type": "code",
   "execution_count": null,
   "id": "LkJKWmXtfOD1",
   "metadata": {
    "id": "LkJKWmXtfOD1"
   },
   "outputs": [],
   "source": []
  },
  {
   "cell_type": "code",
   "execution_count": 10,
   "id": "c2b295f9",
   "metadata": {
    "id": "c2b295f9"
   },
   "outputs": [
    {
     "data": {
      "text/plain": [
       "(0.8, 0.4, 1.1)"
      ]
     },
     "execution_count": 10,
     "metadata": {},
     "output_type": "execute_result"
    }
   ],
   "source": [
    "price_a['Cherry'], price_b['Cherry'], price_c['Cherry']"
   ]
  },
  {
   "cell_type": "markdown",
   "id": "5ad5ab54",
   "metadata": {
    "id": "5ad5ab54"
   },
   "source": [
    "Given that cherries have very different prices between the different resellers, the example load we made ealier would fetch a wildly different price depending on the reseller:"
   ]
  },
  {
   "cell_type": "code",
   "execution_count": 11,
   "id": "8dc3fa44",
   "metadata": {
    "id": "8dc3fa44"
   },
   "outputs": [
    {
     "name": "stdout",
     "output_type": "stream",
     "text": [
      "688.4 308.7 481.8000000000001\n"
     ]
    }
   ],
   "source": [
    "a = evaluate(trial_load, stock, weight, price_a)\n",
    "b = evaluate(trial_load, stock, weight, price_b)\n",
    "c = evaluate(trial_load, stock, weight, price_c)\n",
    "print(a, b, c)"
   ]
  },
  {
   "cell_type": "markdown",
   "id": "40447192",
   "metadata": {
    "id": "40447192"
   },
   "source": [
    "Prepare four different options for your market day haul: one option that will be good for reseller A, one for reseller B, one for reseller C, and one which would be pretty good for all three. Display these options and compare their different prices."
   ]
  },
  {
   "cell_type": "markdown",
   "id": "8c3ff230",
   "metadata": {
    "id": "8c3ff230"
   },
   "source": [
    "Hint: you can use a multi-objective algorithm to optimize for all three reseller prices at the same time."
   ]
  },
  {
   "cell_type": "markdown",
   "id": "0d026d23",
   "metadata": {
    "id": "0d026d23"
   },
   "source": [
    "## Challenge 3"
   ]
  },
  {
   "cell_type": "markdown",
   "id": "1d7603f4",
   "metadata": {
    "id": "1d7603f4"
   },
   "source": [
    "You decide to preprare some of your crops by making food for the market day. You know a number of recipes and are famous for your delicious fruit pies."
   ]
  },
  {
   "cell_type": "code",
   "execution_count": 12,
   "id": "025beabd",
   "metadata": {
    "id": "025beabd"
   },
   "outputs": [],
   "source": [
    "recipes = {'Ratatouille': {'Eggplant': 2, 'Garlic': 2, 'Tomato': 4, 'Hot Pepper': 1},\n",
    " 'Apple Pie': {'Apple': 10, 'Wheat': 5},\n",
    " 'Apricot Pie': {'Apricot': 10, 'Wheat': 5},\n",
    " 'Cherry Pie': {'Cherry': 10, 'Wheat': 5},\n",
    " 'Rhubarb Pie': {'Rhubarb': 10, 'Wheat': 5},\n",
    " 'Strawberry Pie': {'Strawberry': 10, 'Wheat': 5},\n",
    " 'Blackberry Pie': {'Blackberry': 10, 'Wheat': 5},\n",
    " 'Pumpkin Pie': {'Pumpkin': 10, 'Wheat': 5},\n",
    " 'Pizza': {'Tomato': 3, 'Wheat': 2, 'Artichoke': 1},\n",
    " 'Baba Ghanoush': {'Eggplant': 2, 'Garlic': 4},\n",
    " 'Squash Soup': {'Yam': 3, 'Pumpkin': 1},\n",
    " 'Peach Beer': {'Hops': 3, 'Peach': 1},\n",
    " 'Blackberry Beer': {'Hops': 3, 'Blackberry': 1}}"
   ]
  },
  {
   "cell_type": "markdown",
   "id": "1e250a2c",
   "metadata": {
    "id": "1e250a2c"
   },
   "source": [
    "These recipes sell for good prices at each of the resellers:"
   ]
  },
  {
   "cell_type": "code",
   "execution_count": 13,
   "id": "7d0bfc4d",
   "metadata": {
    "id": "7d0bfc4d"
   },
   "outputs": [
    {
     "data": {
      "text/html": [
       "<div>\n",
       "<style scoped>\n",
       "    .dataframe tbody tr th:only-of-type {\n",
       "        vertical-align: middle;\n",
       "    }\n",
       "\n",
       "    .dataframe tbody tr th {\n",
       "        vertical-align: top;\n",
       "    }\n",
       "\n",
       "    .dataframe thead th {\n",
       "        text-align: right;\n",
       "    }\n",
       "</style>\n",
       "<table border=\"1\" class=\"dataframe\">\n",
       "  <thead>\n",
       "    <tr style=\"text-align: right;\">\n",
       "      <th></th>\n",
       "      <th>price_A</th>\n",
       "      <th>price_B</th>\n",
       "      <th>price_C</th>\n",
       "    </tr>\n",
       "  </thead>\n",
       "  <tbody>\n",
       "    <tr>\n",
       "      <th>Ratatouille</th>\n",
       "      <td>68.0</td>\n",
       "      <td>13.0</td>\n",
       "      <td>52.0</td>\n",
       "    </tr>\n",
       "    <tr>\n",
       "      <th>Apple Pie</th>\n",
       "      <td>146.0</td>\n",
       "      <td>84.0</td>\n",
       "      <td>176.0</td>\n",
       "    </tr>\n",
       "    <tr>\n",
       "      <th>Apricot Pie</th>\n",
       "      <td>81.0</td>\n",
       "      <td>46.0</td>\n",
       "      <td>110.0</td>\n",
       "    </tr>\n",
       "    <tr>\n",
       "      <th>Cherry Pie</th>\n",
       "      <td>120.0</td>\n",
       "      <td>72.0</td>\n",
       "      <td>176.0</td>\n",
       "    </tr>\n",
       "    <tr>\n",
       "      <th>Rhubarb Pie</th>\n",
       "      <td>133.0</td>\n",
       "      <td>162.0</td>\n",
       "      <td>98.0</td>\n",
       "    </tr>\n",
       "  </tbody>\n",
       "</table>\n",
       "</div>"
      ],
      "text/plain": [
       "             price_A  price_B  price_C\n",
       "Ratatouille     68.0     13.0     52.0\n",
       "Apple Pie      146.0     84.0    176.0\n",
       "Apricot Pie     81.0     46.0    110.0\n",
       "Cherry Pie     120.0     72.0    176.0\n",
       "Rhubarb Pie    133.0    162.0     98.0"
      ]
     },
     "execution_count": 13,
     "metadata": {},
     "output_type": "execute_result"
    }
   ],
   "source": [
    "df = pd.read_csv('recipes.csv', index_col=0)\n",
    "df.head()"
   ]
  },
  {
   "cell_type": "code",
   "execution_count": 14,
   "id": "48b5850f",
   "metadata": {
    "id": "48b5850f"
   },
   "outputs": [
    {
     "data": {
      "text/plain": [
       "(146.0, 84.0, 176.0)"
      ]
     },
     "execution_count": 14,
     "metadata": {},
     "output_type": "execute_result"
    }
   ],
   "source": [
    "price_a.update(df['price_A'].to_dict())\n",
    "price_b.update(df['price_B'].to_dict())\n",
    "price_c.update(df['price_C'].to_dict())\n",
    "price_a['Apple Pie'], price_b['Apple Pie'], price_c['Apple Pie']"
   ]
  },
  {
   "cell_type": "markdown",
   "id": "f12c408d",
   "metadata": {
    "id": "f12c408d"
   },
   "source": [
    "Modify the evaluation function to take into account these recipes, making sure not to break the weight or stock constraints. The weight of a recipe is the sum total weight of the ingredients, and you can not make a recipe if you don't have the remaining stock of ingredients. Here's an example of calculating the total weight of a random load of only recipes:"
   ]
  },
  {
   "cell_type": "code",
   "execution_count": 15,
   "id": "bf9c9986",
   "metadata": {
    "id": "bf9c9986"
   },
   "outputs": [
    {
     "data": {
      "text/plain": [
       "{'Ratatouille': 1,\n",
       " 'Apple Pie': 0,\n",
       " 'Apricot Pie': 0,\n",
       " 'Cherry Pie': 4,\n",
       " 'Rhubarb Pie': 1,\n",
       " 'Strawberry Pie': 4,\n",
       " 'Blackberry Pie': 0,\n",
       " 'Pumpkin Pie': 3,\n",
       " 'Pizza': 1,\n",
       " 'Baba Ghanoush': 0,\n",
       " 'Squash Soup': 3,\n",
       " 'Peach Beer': 0,\n",
       " 'Blackberry Beer': 3}"
      ]
     },
     "execution_count": 15,
     "metadata": {},
     "output_type": "execute_result"
    }
   ],
   "source": [
    "recipe_load = {}\n",
    "for k in recipes:\n",
    "    recipe_load[k] = np.random.randint(0, 5)\n",
    "recipe_load"
   ]
  },
  {
   "cell_type": "code",
   "execution_count": 16,
   "id": "6fbd7e02",
   "metadata": {
    "id": "6fbd7e02"
   },
   "outputs": [],
   "source": [
    "def get_weight(recipe_load, recipes, weight):\n",
    "    total_weight = 0\n",
    "    for k in recipe_load:\n",
    "        ingredients = recipes[k]\n",
    "        w = 0\n",
    "        for i in ingredients:\n",
    "            w += weight[i] * ingredients[i]\n",
    "        total_weight += w * recipe_load[k]\n",
    "    return total_weight"
   ]
  },
  {
   "cell_type": "code",
   "execution_count": 17,
   "id": "22027764",
   "metadata": {
    "id": "22027764"
   },
   "outputs": [
    {
     "data": {
      "text/plain": [
       "1329"
      ]
     },
     "execution_count": 17,
     "metadata": {},
     "output_type": "execute_result"
    }
   ],
   "source": [
    "get_weight(recipe_load, recipes, weight)"
   ]
  },
  {
   "cell_type": "markdown",
   "id": "16aa5d3d",
   "metadata": {
    "id": "16aa5d3d"
   },
   "source": [
    "Once you've modified the evaluation function, rerun the optimization algorithm to find a new load for the three resellers, and one load which is good for all three. Display this result and the profit gained, making sure that the constraints are met."
   ]
  },
  {
   "cell_type": "markdown",
   "id": "ac9e164e",
   "metadata": {
    "id": "ac9e164e"
   },
   "source": [
    "## Evaluation"
   ]
  },
  {
   "cell_type": "markdown",
   "id": "3fc7150b",
   "metadata": {
    "id": "3fc7150b"
   },
   "source": [
    "You should submit a saved copy of your notebook (including all of the cell output) to the LMS by December 13th, EOD. You may work with one partner, but you must **individually submit a notebook**. You will be graded based on your results, your code, and any text or visual explanations, according to the following rubric:\n",
    "\n",
    "Criterion | Points\n",
    "--- | ---\n",
    "Results - Challenge 1 | 7\n",
    "Results - Challenge 2 | 5\n",
    "Results - Challenge 3 | 3\n",
    "Presentation (code, text) | 5"
   ]
  },
  {
   "cell_type": "code",
   "execution_count": null,
   "id": "7520033a",
   "metadata": {
    "id": "7520033a"
   },
   "outputs": [],
   "source": []
  }
 ],
 "metadata": {
  "colab": {
   "provenance": []
  },
  "kernelspec": {
   "display_name": "myenv",
   "language": "python",
   "name": "python3"
  },
  "language_info": {
   "codemirror_mode": {
    "name": "ipython",
    "version": 3
   },
   "file_extension": ".py",
   "mimetype": "text/x-python",
   "name": "python",
   "nbconvert_exporter": "python",
   "pygments_lexer": "ipython3",
   "version": "3.12.11"
  }
 },
 "nbformat": 4,
 "nbformat_minor": 5
}
